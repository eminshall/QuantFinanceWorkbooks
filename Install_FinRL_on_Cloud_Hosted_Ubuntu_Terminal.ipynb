{
  "nbformat": 4,
  "nbformat_minor": 0,
  "metadata": {
    "colab": {
      "provenance": [],
      "authorship_tag": "ABX9TyMp/vrIVUC6BwrrWk/EY/oY",
      "include_colab_link": true
    },
    "kernelspec": {
      "name": "python3",
      "display_name": "Python 3"
    },
    "language_info": {
      "name": "python"
    }
  },
  "cells": [
    {
      "cell_type": "markdown",
      "metadata": {
        "id": "view-in-github",
        "colab_type": "text"
      },
      "source": [
        "<a href=\"https://colab.research.google.com/github/eminshall/QuantFinanceWorkbooks/blob/main/Install_FinRL_on_Cloud_Hosted_Ubuntu_Terminal.ipynb\" target=\"_parent\"><img src=\"https://colab.research.google.com/assets/colab-badge.svg\" alt=\"Open In Colab\"/></a>"
      ]
    },
    {
      "cell_type": "markdown",
      "source": [
        "\n",
        "\n",
        "##[Install Anaconda]\n",
        "\n",
        "- sudo apt update\n",
        "\n",
        "- sudo apt install curl\n",
        "\n",
        "- sudo apt-get install libgl1-mesa-glx libegl1-mesa libxrandr2 libxrandr2 libxss1 libxcursor1 libxcomposite1 libasound2 libxi6 libxtst6\n",
        "\n",
        "- curl -O https://repo.anaconda.com/archive/Anaconda3-2023.07-1-Linux-x86_64.sh\n",
        "\n",
        "- sha256sum Anaconda3-2023.07-1-Linux-x86_64.sh\n",
        "\n",
        "- bash Anaconda3-2023.07-1-Linux-x86_64.sh\n",
        "\n",
        "- source ~/.bashrc\n",
        "\n",
        "- conda info\n",
        "\n",
        "##[Install Packages]\n",
        "\n",
        "- sudo apt install swig\n",
        "\n",
        "##[Install OpenAI]\n",
        "\n",
        "- sudo apt-get install gcc g++ cmake libopenmpi-dev python3-dev zlib1g-dev libgl1-mesa-glx\n",
        "\n",
        "##[Create Enviroment]\n",
        "\n",
        "- conda create -n py310 python=3.10 anaconda\n",
        "\n",
        "- conda activate py310\n",
        "\n",
        "##[Install FinRL]\n",
        "\n",
        "- pip install git+https://github.com/AI4Finance-Foundation/FinRL.git\n",
        "\n",
        "##[Jupyter Notebook]\n",
        "\n",
        "- jupyter notebook --no-browser --port=8080\n",
        "\n",
        "In a new tab on your local machine\n",
        "\n",
        "- ssh -L 8080:localhost:8080 <REMOTE_USER@REMOTE_HOST>"
      ],
      "metadata": {
        "id": "qwUiTmCYsblD"
      }
    }
  ]
}